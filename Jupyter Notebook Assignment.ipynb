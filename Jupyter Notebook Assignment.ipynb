{
 "cells": [
  {
   "metadata": {
    "collapsed": true
   },
   "cell_type": "markdown",
   "source": [
    "# My Jupyter Notebook on IBM Watson Studio"
   ]
  },
  {
   "metadata": {},
   "cell_type": "markdown",
   "source": [
    "<b>Tumukunde Markjoe</b>\n",
    "\n",
    "<span style=\"font-family:Regular\">Computer Scientist</span>"
   ]
  },
  {
   "metadata": {},
   "cell_type": "markdown",
   "source": [
    "*I Am interested in data science because i have a passion in finding solutions to problems affecting my society.*\n",
    "\n",
    "*I am interested in data science because i want to advance my skills as a computer scientist that can help me in computing environment and workplaces.*\n"
   ]
  },
  {
   "metadata": {},
   "cell_type": "markdown",
   "source": [
    "### Asking user a guess number "
   ]
  },
  {
   "metadata": {},
   "cell_type": "code",
   "source": [
    "import random\n",
    "num = random.randint(1, 10)\n",
    "guess = None\n",
    "while guess != num:\n",
    "    guess = int(input(\"Enter a number between 1 and 10\\n\"))\n",
    "    if guess == num:\n",
    "        print(\"Welldone, you won\")\n",
    "        break\n",
    "    else:\n",
    "        print(\"You were so close, but try again!\")\n",
    "        tr = int(input(\"Press 0 to quit or any key to continue!\"))\n",
    "        if tr == 0:\n",
    "            break\n",
    "        else:\n",
    "            continue\n",
    "print(\"Thank You\")"
   ],
   "execution_count": null,
   "outputs": []
  },
  {
   "metadata": {},
   "cell_type": "markdown",
   "source": [
    "- One\n",
    "- Two\n",
    "- Three\n",
    "\n",
    "|<b>Markdown<b>|<Less  |Pretty<b>|\n",
    "|--------|------|------|\n",
    "|*Still* |Render|<b>Nicely</b>|\n",
    "|   1    |   2  |   3  |\n",
    "\n",
    "[ww.ibm.com](https://www.google.com/url?sa=t&rct=j&q=&esrc=s&source=web&cd=&cad=rja&uact=8&ved=2ahUKEwiR5oKIv7X6AhUBO-wKHaKRAZAQFnoECAcQAQ&url=https%3A%2F%2Fwww.ibm.com%2F&usg=AOvVaw1yc4WAzcVmuV7ibRCPD5GJ)"
   ]
  },
  {
   "metadata": {},
   "cell_type": "code",
   "source": [],
   "execution_count": null,
   "outputs": []
  }
 ],
 "metadata": {
  "kernelspec": {
   "name": "python3",
   "display_name": "Python 3.9",
   "language": "python"
  },
  "language_info": {
   "name": "python",
   "version": "3.9.12",
   "mimetype": "text/x-python",
   "codemirror_mode": {
    "name": "ipython",
    "version": 3
   },
   "pygments_lexer": "ipython3",
   "nbconvert_exporter": "python",
   "file_extension": ".py"
  }
 },
 "nbformat": 4,
 "nbformat_minor": 1
}
